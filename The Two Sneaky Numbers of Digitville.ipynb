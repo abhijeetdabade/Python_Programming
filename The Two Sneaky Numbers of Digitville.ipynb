{
 "cells": [
  {
   "cell_type": "code",
   "execution_count": 10,
   "id": "9f2d35ec",
   "metadata": {},
   "outputs": [],
   "source": [
    "# Apporach 1 using Dictionary \n",
    "\n",
    "def repeated_nums(nums):\n",
    "    count = {}\n",
    "    repeated = []\n",
    "    \n",
    "    for num in nums:\n",
    "        if num in count:\n",
    "            count[num] += 1\n",
    "        else:\n",
    "            count[num] = 1\n",
    "            \n",
    "    for num, freq in count.items():\n",
    "        if freq > 1:\n",
    "            repeated.append(num)\n",
    "#             print(count.items())\n",
    "            \n",
    "    return repeated"
   ]
  },
  {
   "cell_type": "code",
   "execution_count": 11,
   "id": "853dd328",
   "metadata": {},
   "outputs": [
    {
     "name": "stdout",
     "output_type": "stream",
     "text": [
      "[3, 2]\n"
     ]
    }
   ],
   "source": [
    "nums = [0,3,2,1,3,2]\n",
    "print(repeated_nums(nums))()"
   ]
  },
  {
   "cell_type": "code",
   "execution_count": 13,
   "id": "73cb3d50",
   "metadata": {},
   "outputs": [],
   "source": [
    "# Approach 2 using collection counter\n",
    "\n",
    "\n",
    "from collections import Counter\n",
    "\n",
    "def sneaky_numbers(nums):\n",
    "    count = Counter(nums)\n",
    "    repeated = [num for num, freq in count.items() if freq > 1]\n",
    "    return repeated\n"
   ]
  },
  {
   "cell_type": "code",
   "execution_count": 14,
   "id": "6d26f0ea",
   "metadata": {},
   "outputs": [
    {
     "name": "stdout",
     "output_type": "stream",
     "text": [
      "[3, 2]\n"
     ]
    }
   ],
   "source": [
    "nums = [0,3,2,1,3,2]\n",
    "print(sneaky_numbers(nums))"
   ]
  },
  {
   "cell_type": "code",
   "execution_count": 15,
   "id": "eb32cf22",
   "metadata": {},
   "outputs": [],
   "source": [
    "# Approach 3 using set\n",
    "\n",
    "def sneaky_number(nums):\n",
    "    seen = set()\n",
    "    repeated = set()\n",
    "    \n",
    "    for num in nums:\n",
    "        if num in seen:\n",
    "            repeated.add(num)\n",
    "        else:\n",
    "            seen.add(num)\n",
    "            \n",
    "    return list(repeated)"
   ]
  },
  {
   "cell_type": "code",
   "execution_count": 16,
   "id": "1153c6eb",
   "metadata": {},
   "outputs": [
    {
     "name": "stdout",
     "output_type": "stream",
     "text": [
      "[2, 3]\n"
     ]
    }
   ],
   "source": [
    "nums = [0,3,2,1,3,2]\n",
    "print(sneaky_number(nums))"
   ]
  },
  {
   "cell_type": "code",
   "execution_count": 17,
   "id": "23e43721",
   "metadata": {},
   "outputs": [
    {
     "name": "stdout",
     "output_type": "stream",
     "text": [
      "[1, 2, 3]\n"
     ]
    }
   ],
   "source": [
    "# Using List Comprehension and count()\n",
    "\n",
    "def find_repeated_numbers(lst):\n",
    "    return list(set([num for num in lst if lst.count(num) > 1]))\n",
    "\n",
    "# Example usage\n",
    "numbers = [1, 2, 3, 4, 5, 3, 2, 1]\n",
    "print(find_repeated_numbers(numbers))\n"
   ]
  },
  {
   "cell_type": "code",
   "execution_count": 18,
   "id": "a12a0e2e",
   "metadata": {},
   "outputs": [
    {
     "name": "stdout",
     "output_type": "stream",
     "text": [
      "[1, 2, 3]\n"
     ]
    }
   ],
   "source": [
    "# Using Sorting\n",
    "\n",
    "def find_repeated_numbers(lst):\n",
    "    lst.sort()  # Sort the list first\n",
    "    repeated = []\n",
    "    \n",
    "    for i in range(1, len(lst)):\n",
    "        if lst[i] == lst[i - 1] and lst[i] not in repeated:\n",
    "            repeated.append(lst[i])\n",
    "    \n",
    "    return repeated\n",
    "\n",
    "# Example usage\n",
    "numbers = [1, 2, 3, 4, 5, 3, 2, 1]\n",
    "print(find_repeated_numbers(numbers))\n"
   ]
  },
  {
   "cell_type": "code",
   "execution_count": null,
   "id": "9652c2a1",
   "metadata": {},
   "outputs": [],
   "source": []
  }
 ],
 "metadata": {
  "kernelspec": {
   "display_name": "Python 3 (ipykernel)",
   "language": "python",
   "name": "python3"
  },
  "language_info": {
   "codemirror_mode": {
    "name": "ipython",
    "version": 3
   },
   "file_extension": ".py",
   "mimetype": "text/x-python",
   "name": "python",
   "nbconvert_exporter": "python",
   "pygments_lexer": "ipython3",
   "version": "3.10.12"
  }
 },
 "nbformat": 4,
 "nbformat_minor": 5
}
