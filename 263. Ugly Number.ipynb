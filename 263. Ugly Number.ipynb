{
 "cells": [
  {
   "cell_type": "code",
   "execution_count": 1,
   "id": "93c91257",
   "metadata": {},
   "outputs": [
    {
     "data": {
      "text/plain": [
       "' \\n\\n263. Ugly Number\\nEasy\\nTopics\\nCompanies\\nAn ugly number is a positive integer whose prime factors are limited to 2, 3, and 5.\\n\\nGiven an integer n, return true if n is an ugly number.\\n\\n \\n\\nExample 1:\\n\\nInput: n = 6\\nOutput: true\\nExplanation: 6 = 2 × 3\\nExample 2:\\n\\nInput: n = 1\\nOutput: true\\nExplanation: 1 has no prime factors, therefore all of its prime factors are limited to 2, 3, and 5.\\nExample 3:\\n\\nInput: n = 14\\nOutput: false\\nExplanation: 14 is not ugly since it includes the prime factor 7.\\n\\n'"
      ]
     },
     "execution_count": 1,
     "metadata": {},
     "output_type": "execute_result"
    }
   ],
   "source": [
    "\"\"\" \n",
    "\n",
    "263. Ugly Number\n",
    "Easy\n",
    "Topics\n",
    "Companies\n",
    "An ugly number is a positive integer whose prime factors are limited to 2, 3, and 5.\n",
    "\n",
    "Given an integer n, return true if n is an ugly number.\n",
    "\n",
    " \n",
    "\n",
    "Example 1:\n",
    "\n",
    "Input: n = 6\n",
    "Output: true\n",
    "Explanation: 6 = 2 × 3\n",
    "Example 2:\n",
    "\n",
    "Input: n = 1\n",
    "Output: true\n",
    "Explanation: 1 has no prime factors, therefore all of its prime factors are limited to 2, 3, and 5.\n",
    "Example 3:\n",
    "\n",
    "Input: n = 14\n",
    "Output: false\n",
    "Explanation: 14 is not ugly since it includes the prime factor 7.\n",
    "\n",
    "\"\"\""
   ]
  },
  {
   "cell_type": "code",
   "execution_count": 2,
   "id": "b71b0ab6",
   "metadata": {},
   "outputs": [],
   "source": [
    "def ugly_num(num):\n",
    "    \n",
    "    if num <= 0:\n",
    "        return False\n",
    "    for factor in[2, 3, 5]:\n",
    "        while num % factor == 0:\n",
    "            num //= factor\n",
    "    \n",
    "    return num == 1"
   ]
  },
  {
   "cell_type": "code",
   "execution_count": 4,
   "id": "05d79462",
   "metadata": {},
   "outputs": [
    {
     "name": "stdout",
     "output_type": "stream",
     "text": [
      "True\n"
     ]
    }
   ],
   "source": [
    "num =6\n",
    "print(ugly_num(num))"
   ]
  },
  {
   "cell_type": "code",
   "execution_count": null,
   "id": "f0bacf70",
   "metadata": {},
   "outputs": [],
   "source": []
  }
 ],
 "metadata": {
  "kernelspec": {
   "display_name": "Python 3 (ipykernel)",
   "language": "python",
   "name": "python3"
  },
  "language_info": {
   "codemirror_mode": {
    "name": "ipython",
    "version": 3
   },
   "file_extension": ".py",
   "mimetype": "text/x-python",
   "name": "python",
   "nbconvert_exporter": "python",
   "pygments_lexer": "ipython3",
   "version": "3.12.3"
  }
 },
 "nbformat": 4,
 "nbformat_minor": 5
}
