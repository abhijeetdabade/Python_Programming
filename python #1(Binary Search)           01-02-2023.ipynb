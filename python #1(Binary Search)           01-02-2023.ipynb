{
 "cells": [
  {
   "cell_type": "markdown",
   "id": "13de3a6c",
   "metadata": {},
   "source": [
    "## Bubble sort"
   ]
  },
  {
   "cell_type": "code",
   "execution_count": 18,
   "id": "704353fd",
   "metadata": {},
   "outputs": [
    {
     "name": "stdout",
     "output_type": "stream",
     "text": [
      "1\n",
      "2\n",
      "2\n",
      "3\n",
      "4\n",
      "5\n",
      "7\n",
      "8\n"
     ]
    }
   ],
   "source": [
    "arr = [4,2,5,8,1,7,3,2]\n",
    "\n",
    "for i in range(0,len(arr)):\n",
    "    for j in range(0, len(arr)):\n",
    "        if arr[i] < arr[j]:\n",
    "            temp = arr[i]\n",
    "            arr[i] = arr[j]\n",
    "            arr[j] = temp\n",
    "for i in range(0, len(arr)):\n",
    "    print(arr[i])"
   ]
  },
  {
   "cell_type": "markdown",
   "id": "59fb22dc",
   "metadata": {},
   "source": [
    "## Linear Search "
   ]
  },
  {
   "cell_type": "code",
   "execution_count": 25,
   "id": "3260449e",
   "metadata": {},
   "outputs": [
    {
     "name": "stdout",
     "output_type": "stream",
     "text": [
      "nummber is not found\n"
     ]
    }
   ],
   "source": [
    "arr = [34,23,64,32,6,78,39,89,67,76]\n",
    "key = 45\n",
    "flag = 0\n",
    "\n",
    "for i in range(0, len(arr)):\n",
    "    if arr[i] == key:\n",
    "        print(\"number is present\")\n",
    "        flag = 1\n",
    "        break\n",
    "        \n",
    "    \n",
    "if flag == 0:\n",
    "    print(\"nummber is not found\")"
   ]
  }
 ],
 "metadata": {
  "kernelspec": {
   "display_name": "my_env_project",
   "language": "python",
   "name": "my_env_project"
  },
  "language_info": {
   "codemirror_mode": {
    "name": "ipython",
    "version": 3
   },
   "file_extension": ".py",
   "mimetype": "text/x-python",
   "name": "python",
   "nbconvert_exporter": "python",
   "pygments_lexer": "ipython3",
   "version": "3.10.6"
  }
 },
 "nbformat": 4,
 "nbformat_minor": 5
}
