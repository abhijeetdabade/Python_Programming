{
 "cells": [
  {
   "cell_type": "code",
   "execution_count": 25,
   "id": "f3f81675",
   "metadata": {},
   "outputs": [
    {
     "data": {
      "text/plain": [
       "'\\n242. Valid Anagram\\nEasy\\nTopics\\nCompanies\\nGiven two strings s and t, return true if t is an \\nanagram\\n of s, and false otherwise.\\n\\n \\n\\nExample 1:\\n\\nInput: s = \"anagram\", t = \"nagaram\"\\n\\nOutput: true\\n\\nExample 2:\\n\\nInput: s = \"rat\", t = \"car\"\\n\\nOutput: false\\n\\n \\n\\nConstraints:\\n\\n1 <= s.length, t.length <= 5 * 104\\ns and t consist of lowercase English letters.\\n \\n\\nFollow up: What if the inputs contain Unicode characters? How would you adapt your solution to such a case?\\n'"
      ]
     },
     "execution_count": 25,
     "metadata": {},
     "output_type": "execute_result"
    }
   ],
   "source": [
    "\"\"\"\n",
    "242. Valid Anagram\n",
    "Easy\n",
    "Topics\n",
    "Companies\n",
    "Given two strings s and t, return true if t is an \n",
    "anagram\n",
    " of s, and false otherwise.\n",
    "\n",
    " \n",
    "\n",
    "Example 1:\n",
    "\n",
    "Input: s = \"anagram\", t = \"nagaram\"\n",
    "\n",
    "Output: true\n",
    "\n",
    "Example 2:\n",
    "\n",
    "Input: s = \"rat\", t = \"car\"\n",
    "\n",
    "Output: false\n",
    "\n",
    " \n",
    "\n",
    "Constraints:\n",
    "\n",
    "1 <= s.length, t.length <= 5 * 104\n",
    "s and t consist of lowercase English letters.\n",
    " \n",
    "\n",
    "Follow up: What if the inputs contain Unicode characters? How would you adapt your solution to such a case?\n",
    "\"\"\""
   ]
  },
  {
   "cell_type": "code",
   "execution_count": 33,
   "id": "3804d63e",
   "metadata": {},
   "outputs": [],
   "source": [
    "from collections import Counter\n",
    "def anagrams(s, t):\n",
    "    return Counter(s) == Counter(t)\n",
    "#     return sorted(s) == sorted(t)\n",
    "\n"
   ]
  },
  {
   "cell_type": "code",
   "execution_count": 34,
   "id": "aba1d8ef",
   "metadata": {},
   "outputs": [
    {
     "name": "stdout",
     "output_type": "stream",
     "text": [
      "True\n"
     ]
    }
   ],
   "source": [
    "s = \"anagram\"\n",
    "t = \"nagaram\"\n",
    "\n",
    "print(anagrams(s, t))"
   ]
  },
  {
   "cell_type": "code",
   "execution_count": 28,
   "id": "20a861a5",
   "metadata": {},
   "outputs": [],
   "source": [
    "def anagram_str(s, t):\n",
    "    countS, countT = {}, {}\n",
    "    \n",
    "    if len(s) != len(t):\n",
    "        return False\n",
    "    \n",
    "    for i in range(len(s)):\n",
    "        countS[s[i]] = 1 + countS.get(s[i], 0)\n",
    "        countT[t[i]] = 1 + countT.get(t[i], 0)\n",
    "        \n",
    "    for c in countS:\n",
    "        if countS[c] != countT.get(c, 0):\n",
    "            return False\n",
    "    return True"
   ]
  },
  {
   "cell_type": "code",
   "execution_count": 24,
   "id": "a63ccbc4",
   "metadata": {},
   "outputs": [
    {
     "name": "stdout",
     "output_type": "stream",
     "text": [
      "True\n"
     ]
    }
   ],
   "source": [
    "s = \"anagram\"\n",
    "t = \"nagaram\"\n",
    "\n",
    "print(anagram_str(s, t))"
   ]
  },
  {
   "cell_type": "code",
   "execution_count": null,
   "id": "044d3c4b",
   "metadata": {},
   "outputs": [],
   "source": []
  }
 ],
 "metadata": {
  "kernelspec": {
   "display_name": "Python 3 (ipykernel)",
   "language": "python",
   "name": "python3"
  },
  "language_info": {
   "codemirror_mode": {
    "name": "ipython",
    "version": 3
   },
   "file_extension": ".py",
   "mimetype": "text/x-python",
   "name": "python",
   "nbconvert_exporter": "python",
   "pygments_lexer": "ipython3",
   "version": "3.12.3"
  }
 },
 "nbformat": 4,
 "nbformat_minor": 5
}
