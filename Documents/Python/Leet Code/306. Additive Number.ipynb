{
 "cells": [
  {
   "cell_type": "code",
   "execution_count": 1,
   "id": "2f2df664",
   "metadata": {},
   "outputs": [
    {
     "data": {
      "text/plain": [
       "'\\n\\n306. Additive Number\\nMedium\\nTopics\\nCompanies\\nAn additive number is a string whose digits can form an additive sequence.\\n\\nA valid additive sequence should contain at least three numbers. Except for the first two numbers, each subsequent number in the sequence must be the sum of the preceding two.\\n\\nGiven a string containing only digits, return true if it is an additive number or false otherwise.\\n\\nNote: Numbers in the additive sequence cannot have leading zeros, so sequence 1, 2, 03 or 1, 02, 3 is invalid.\\n\\n \\n\\nExample 1:\\n\\nInput: \"112358\"\\nOutput: true\\nExplanation: \\nThe digits can form an additive sequence: 1, 1, 2, 3, 5, 8. \\n1 + 1 = 2, 1 + 2 = 3, 2 + 3 = 5, 3 + 5 = 8\\nExample 2:\\n\\nInput: \"199100199\"\\nOutput: true\\nExplanation: \\nThe additive sequence is: 1, 99, 100, 199. \\n1 + 99 = 100, 99 + 100 = 199\\n \\n\\nConstraints:\\n\\n1 <= num.length <= 35\\nnum consists only of digits.\\n \\n\\nFollow up: How would you handle overflow for very large input integers?\\n\\n'"
      ]
     },
     "execution_count": 1,
     "metadata": {},
     "output_type": "execute_result"
    }
   ],
   "source": [
    "\"\"\"\n",
    "\n",
    "306. Additive Number\n",
    "Medium\n",
    "Topics\n",
    "Companies\n",
    "An additive number is a string whose digits can form an additive sequence.\n",
    "\n",
    "A valid additive sequence should contain at least three numbers. Except for the first two numbers, each subsequent number in the sequence must be the sum of the preceding two.\n",
    "\n",
    "Given a string containing only digits, return true if it is an additive number or false otherwise.\n",
    "\n",
    "Note: Numbers in the additive sequence cannot have leading zeros, so sequence 1, 2, 03 or 1, 02, 3 is invalid.\n",
    "\n",
    " \n",
    "\n",
    "Example 1:\n",
    "\n",
    "Input: \"112358\"\n",
    "Output: true\n",
    "Explanation: \n",
    "The digits can form an additive sequence: 1, 1, 2, 3, 5, 8. \n",
    "1 + 1 = 2, 1 + 2 = 3, 2 + 3 = 5, 3 + 5 = 8\n",
    "Example 2:\n",
    "\n",
    "Input: \"199100199\"\n",
    "Output: true\n",
    "Explanation: \n",
    "The additive sequence is: 1, 99, 100, 199. \n",
    "1 + 99 = 100, 99 + 100 = 199\n",
    " \n",
    "\n",
    "Constraints:\n",
    "\n",
    "1 <= num.length <= 35\n",
    "num consists only of digits.\n",
    " \n",
    "\n",
    "Follow up: How would you handle overflow for very large input integers?\n",
    "\n",
    "\"\"\""
   ]
  },
  {
   "cell_type": "code",
   "execution_count": 1,
   "id": "8b3e4f84",
   "metadata": {},
   "outputs": [],
   "source": [
    "def isAdditiveNumber(num):\n",
    "    n = len(num)\n",
    "    \n",
    "    def isValid(num1, num2, remaining):\n",
    "        while remaining:\n",
    "            sum_str = str(int(num1) + int(num2))\n",
    "            if not remaining.startswith(sum_str):\n",
    "                return False\n",
    "            num1, num2 = num2, sum_str\n",
    "            remaining = remaining[len(sum_str):]\n",
    "        return True\n",
    "\n",
    "    for i in range(1, n):\n",
    "        for j in range(i+1, n):\n",
    "            num1, num2 = num[:i], num[i:j]\n",
    "            if (num1[0] == '0' and len(num1) > 1) or (num2[0] == '0' and len(num2) > 1):\n",
    "                continue\n",
    "            if isValid(num1, num2, num[j:]):\n",
    "                return True\n",
    "    return False\n",
    "\n",
    "    "
   ]
  },
  {
   "cell_type": "code",
   "execution_count": 2,
   "id": "f345b2dd",
   "metadata": {},
   "outputs": [
    {
     "name": "stdout",
     "output_type": "stream",
     "text": [
      "True\n"
     ]
    }
   ],
   "source": [
    "num = \"112358\"\n",
    "\n",
    "print(isAdditiveNumber(num))"
   ]
  },
  {
   "cell_type": "code",
   "execution_count": null,
   "id": "c19aab78",
   "metadata": {},
   "outputs": [],
   "source": []
  }
 ],
 "metadata": {
  "kernelspec": {
   "display_name": "Python 3 (ipykernel)",
   "language": "python",
   "name": "python3"
  },
  "language_info": {
   "codemirror_mode": {
    "name": "ipython",
    "version": 3
   },
   "file_extension": ".py",
   "mimetype": "text/x-python",
   "name": "python",
   "nbconvert_exporter": "python",
   "pygments_lexer": "ipython3",
   "version": "3.12.3"
  }
 },
 "nbformat": 4,
 "nbformat_minor": 5
}
