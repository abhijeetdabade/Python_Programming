{
 "cells": [
  {
   "cell_type": "code",
   "execution_count": 44,
   "id": "30fd8e35",
   "metadata": {},
   "outputs": [
    {
     "data": {
      "text/plain": [
       "'\\n\\n287. Find the Duplicate Number\\n\\nGiven an array of integers nums containing n + 1 integers where each integer is in the range [1, n] inclusive.\\n\\nThere is only one repeated number in nums, return this repeated number.\\n\\nYou must solve the problem without modifying the array nums and using only constant extra space.\\n\\n \\nExample 1:\\n\\nInput: nums = [1,3,4,2,2]\\nOutput: 2\\nExample 2:\\n\\nInput: nums = [3,1,3,4,2]\\nOutput: 3\\nExample 3:\\n\\nInput: nums = [3,3,3,3,3]\\nOutput: 3\\n \\n\\nConstraints:\\n\\n1 <= n <= 105\\nnums.length == n + 1\\n1 <= nums[i] <= n\\nAll the integers in nums appear only once except for precisely one integer which appears two or more times.\\n \\n\\nFollow up:\\n\\nHow can we prove that at least one duplicate number must exist in nums?\\nCan you solve the problem in linear runtime complexity?\\n\\n'"
      ]
     },
     "execution_count": 44,
     "metadata": {},
     "output_type": "execute_result"
    }
   ],
   "source": [
    "\"\"\"\n",
    "\n",
    "287. Find the Duplicate Number\n",
    "\n",
    "Given an array of integers nums containing n + 1 integers where each integer is in the range [1, n] inclusive.\n",
    "\n",
    "There is only one repeated number in nums, return this repeated number.\n",
    "\n",
    "You must solve the problem without modifying the array nums and using only constant extra space.\n",
    "\n",
    " \n",
    "Example 1:\n",
    "\n",
    "Input: nums = [1,3,4,2,2]\n",
    "Output: 2\n",
    "Example 2:\n",
    "\n",
    "Input: nums = [3,1,3,4,2]\n",
    "Output: 3\n",
    "Example 3:\n",
    "\n",
    "Input: nums = [3,3,3,3,3]\n",
    "Output: 3\n",
    " \n",
    "\n",
    "Constraints:\n",
    "\n",
    "1 <= n <= 105\n",
    "nums.length == n + 1\n",
    "1 <= nums[i] <= n\n",
    "All the integers in nums appear only once except for precisely one integer which appears two or more times.\n",
    " \n",
    "\n",
    "Follow up:\n",
    "\n",
    "How can we prove that at least one duplicate number must exist in nums?\n",
    "Can you solve the problem in linear runtime complexity?\n",
    "\n",
    "\"\"\""
   ]
  },
  {
   "cell_type": "code",
   "execution_count": 72,
   "id": "21587a46",
   "metadata": {},
   "outputs": [],
   "source": [
    "from collections import Counter\n",
    "\n",
    "def duplicate_number(nums):\n",
    "    \n",
    "    count = Counter(nums)\n",
    "    for num, freq in count.items():\n",
    "        if freq > 1:\n",
    "            return num\n",
    "    \n",
    "    print(count)"
   ]
  },
  {
   "cell_type": "code",
   "execution_count": 73,
   "id": "2c0baa55",
   "metadata": {},
   "outputs": [
    {
     "name": "stdout",
     "output_type": "stream",
     "text": [
      "2\n"
     ]
    }
   ],
   "source": [
    "# nums = [3,1,3,4,2]\n",
    "nums = [1,3,4,2,2]\n",
    "# nums = [3,3,3,3,3]\n",
    "print(duplicate_number(nums))"
   ]
  },
  {
   "cell_type": "code",
   "execution_count": 74,
   "id": "41ab1297",
   "metadata": {},
   "outputs": [
    {
     "name": "stdout",
     "output_type": "stream",
     "text": [
      "[1, 2, 2, 3, 4]\n",
      "2\n"
     ]
    }
   ],
   "source": [
    "def dup_compare(nums):\n",
    "    \n",
    "    num = sorted(nums)\n",
    "    \n",
    "    print(num)\n",
    "    \n",
    "    for i in range(len(num)):\n",
    "        if num[i] == num[i+1]:\n",
    "            return num[i]\n",
    "    \n",
    "    \n",
    "# nums = [3,1,3,4,2]\n",
    "nums = [1,3,4,2,2]\n",
    "# nums = [3,3,3,3,3]\n",
    "print(dup_compare(nums))"
   ]
  },
  {
   "cell_type": "code",
   "execution_count": 71,
   "id": "a9193d62",
   "metadata": {},
   "outputs": [
    {
     "name": "stdout",
     "output_type": "stream",
     "text": [
      "[1, 2, 3, 3, 4]\n",
      "3\n"
     ]
    }
   ],
   "source": [
    "def dup(nums):\n",
    "    seen = set()\n",
    "    \n",
    "    for num in nums:\n",
    "        if num in seen:\n",
    "            return num\n",
    "        else:\n",
    "            seen.add(num)\n",
    "            \n",
    "\n",
    "nums = [3,1,3,4,2]\n",
    "# nums = [1,3,4,2,2]\n",
    "# nums = [3,3,3,3,3]\n",
    "print(dup_compare(nums))"
   ]
  },
  {
   "cell_type": "code",
   "execution_count": null,
   "id": "e73584ae",
   "metadata": {},
   "outputs": [],
   "source": []
  }
 ],
 "metadata": {
  "kernelspec": {
   "display_name": "Python 3 (ipykernel)",
   "language": "python",
   "name": "python3"
  },
  "language_info": {
   "codemirror_mode": {
    "name": "ipython",
    "version": 3
   },
   "file_extension": ".py",
   "mimetype": "text/x-python",
   "name": "python",
   "nbconvert_exporter": "python",
   "pygments_lexer": "ipython3",
   "version": "3.12.3"
  }
 },
 "nbformat": 4,
 "nbformat_minor": 5
}
