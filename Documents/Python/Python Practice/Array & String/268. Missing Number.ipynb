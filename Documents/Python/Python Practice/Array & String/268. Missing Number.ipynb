{
 "cells": [
  {
   "cell_type": "code",
   "execution_count": 1,
   "id": "bc0a27b3",
   "metadata": {},
   "outputs": [
    {
     "data": {
      "text/plain": [
       "'\\n\\n268. Missing Number\\nEasy\\n\\n\\nGiven an array nums containing n distinct numbers in the range [0, n], return the only number in the range that is missing from the array.\\n\\n \\n\\nExample 1:\\n\\nInput: nums = [3,0,1]\\nOutput: 2\\nExplanation: n = 3 since there are 3 numbers, so all numbers are in the range [0,3]. 2 is the missing number in the range since it does not appear in nums.\\nExample 2:\\n\\nInput: nums = [0,1]\\nOutput: 2\\nExplanation: n = 2 since there are 2 numbers, so all numbers are in the range [0,2]. 2 is the missing number in the range since it does not appear in nums.\\nExample 3:\\n\\nInput: nums = [9,6,4,2,3,5,7,0,1]\\nOutput: 8\\nExplanation: n = 9 since there are 9 numbers, so all numbers are in the range [0,9]. 8 is the missing number in the range since it does not appear in nums.\\n \\n\\nConstraints:\\n\\nn == nums.length\\n1 <= n <= 104\\n0 <= nums[i] <= n\\nAll the numbers of nums are unique.\\n \\n\\nFollow up: Could you implement a solution using only O(1) extra space complexity and O(n) runtime complexity?\\n\\n'"
      ]
     },
     "execution_count": 1,
     "metadata": {},
     "output_type": "execute_result"
    }
   ],
   "source": [
    "\"\"\"\n",
    "\n",
    "268. Missing Number\n",
    "Easy\n",
    "\n",
    "\n",
    "Given an array nums containing n distinct numbers in the range [0, n], return the only number in the range that is missing from the array.\n",
    "\n",
    " \n",
    "\n",
    "Example 1:\n",
    "\n",
    "Input: nums = [3,0,1]\n",
    "Output: 2\n",
    "Explanation: n = 3 since there are 3 numbers, so all numbers are in the range [0,3]. 2 is the missing number in the range since it does not appear in nums.\n",
    "Example 2:\n",
    "\n",
    "Input: nums = [0,1]\n",
    "Output: 2\n",
    "Explanation: n = 2 since there are 2 numbers, so all numbers are in the range [0,2]. 2 is the missing number in the range since it does not appear in nums.\n",
    "Example 3:\n",
    "\n",
    "Input: nums = [9,6,4,2,3,5,7,0,1]\n",
    "Output: 8\n",
    "Explanation: n = 9 since there are 9 numbers, so all numbers are in the range [0,9]. 8 is the missing number in the range since it does not appear in nums.\n",
    " \n",
    "\n",
    "Constraints:\n",
    "\n",
    "n == nums.length\n",
    "1 <= n <= 104\n",
    "0 <= nums[i] <= n\n",
    "All the numbers of nums are unique.\n",
    " \n",
    "\n",
    "Follow up: Could you implement a solution using only O(1) extra space complexity and O(n) runtime complexity?\n",
    "\n",
    "\"\"\""
   ]
  },
  {
   "cell_type": "code",
   "execution_count": 27,
   "id": "df9b57ba",
   "metadata": {},
   "outputs": [],
   "source": [
    "def missing_nums(nums):\n",
    "    \n",
    "    n = len(nums)\n",
    "    num = sorted(nums)\n",
    "    \n",
    "    for i in range(n):\n",
    "        if i != num[i]:\n",
    "            num.append(i)\n",
    "        \n",
    "    return i"
   ]
  },
  {
   "cell_type": "code",
   "execution_count": 28,
   "id": "a6389187",
   "metadata": {},
   "outputs": [
    {
     "name": "stdout",
     "output_type": "stream",
     "text": [
      "8\n"
     ]
    }
   ],
   "source": [
    "nums = [9,6,4,2,3,5,7,0,1]\n",
    "# nums = [3,0,1]\n",
    "\n",
    "print(missing_nums(nums))"
   ]
  },
  {
   "cell_type": "code",
   "execution_count": 29,
   "id": "097f561b",
   "metadata": {},
   "outputs": [],
   "source": [
    "def missing_num(nums):\n",
    "    n = len(nums)\n",
    "    expected_sum = n * (n + 1) // 2  # Sum of numbers from 0 to n\n",
    "    actual_sum = sum(nums)  # Sum of numbers in the list\n",
    "    \n",
    "    # The missing number is the difference between the expected and actual sum\n",
    "    return expected_sum - actual_sum\n"
   ]
  },
  {
   "cell_type": "code",
   "execution_count": 35,
   "id": "2b55bc92",
   "metadata": {},
   "outputs": [
    {
     "name": "stdout",
     "output_type": "stream",
     "text": [
      "2\n"
     ]
    }
   ],
   "source": [
    "# nums = [9,6,4,2,3,5,7,0,1]\n",
    "nums = [0,1]\n",
    "\n",
    "print(missing_num(nums))"
   ]
  },
  {
   "cell_type": "code",
   "execution_count": 31,
   "id": "82031108",
   "metadata": {},
   "outputs": [],
   "source": [
    "def missingNumber(nums):\n",
    "    n = len(nums)\n",
    "    missing = n\n",
    "    for i in range(n):\n",
    "        missing ^= i ^ nums[i]\n",
    "    return missing\n"
   ]
  },
  {
   "cell_type": "code",
   "execution_count": 36,
   "id": "fe67b0c3",
   "metadata": {},
   "outputs": [
    {
     "name": "stdout",
     "output_type": "stream",
     "text": [
      "3\n"
     ]
    }
   ],
   "source": [
    "# nums = [9,6,4,2,3,5,7,0,1]\n",
    "nums = [0,1,2]\n",
    "\n",
    "print(missingNumber(nums))"
   ]
  },
  {
   "cell_type": "code",
   "execution_count": null,
   "id": "935f9b44",
   "metadata": {},
   "outputs": [],
   "source": []
  }
 ],
 "metadata": {
  "kernelspec": {
   "display_name": "Python 3 (ipykernel)",
   "language": "python",
   "name": "python3"
  },
  "language_info": {
   "codemirror_mode": {
    "name": "ipython",
    "version": 3
   },
   "file_extension": ".py",
   "mimetype": "text/x-python",
   "name": "python",
   "nbconvert_exporter": "python",
   "pygments_lexer": "ipython3",
   "version": "3.12.3"
  }
 },
 "nbformat": 4,
 "nbformat_minor": 5
}
