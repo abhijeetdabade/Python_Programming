{
 "cells": [
  {
   "cell_type": "code",
   "execution_count": 1,
   "id": "c15486d1",
   "metadata": {},
   "outputs": [
    {
     "data": {
      "text/plain": [
       "'\\n\\n290. Word Pattern\\nEasy\\nTopics\\nCompanies\\nGiven a pattern and a string s, find if s follows the same pattern.\\n\\nHere follow means a full match, such that there is a bijection between a letter in pattern and a non-empty word in s. Specifically:\\n\\nEach letter in pattern maps to exactly one unique word in s.\\nEach unique word in s maps to exactly one letter in pattern.\\nNo two letters map to the same word, and no two words map to the same letter.\\n \\n\\nExample 1:\\n\\nInput: pattern = \"abba\", s = \"dog cat cat dog\"\\n\\nOutput: true\\n\\nExplanation:\\n\\nThe bijection can be established as:\\n\\n\\'a\\' maps to \"dog\".\\n\\'b\\' maps to \"cat\".\\nExample 2:\\n\\nInput: pattern = \"abba\", s = \"dog cat cat fish\"\\n\\nOutput: false\\n\\nExample 3:\\n\\nInput: pattern = \"aaaa\", s = \"dog cat cat dog\"\\n\\nOutput: false\\n\\n \\n\\nConstraints:\\n\\n1 <= pattern.length <= 300\\npattern contains only lower-case English letters.\\n1 <= s.length <= 3000\\ns contains only lowercase English letters and spaces \\' \\'.\\ns does not contain any leading or trailing spaces.\\nAll the words in s are separated by a single space.\\n\\n\\n'"
      ]
     },
     "execution_count": 1,
     "metadata": {},
     "output_type": "execute_result"
    }
   ],
   "source": [
    "\"\"\"\n",
    "\n",
    "290. Word Pattern\n",
    "Easy\n",
    "Topics\n",
    "Companies\n",
    "Given a pattern and a string s, find if s follows the same pattern.\n",
    "\n",
    "Here follow means a full match, such that there is a bijection between a letter in pattern and a non-empty word in s. Specifically:\n",
    "\n",
    "Each letter in pattern maps to exactly one unique word in s.\n",
    "Each unique word in s maps to exactly one letter in pattern.\n",
    "No two letters map to the same word, and no two words map to the same letter.\n",
    " \n",
    "\n",
    "Example 1:\n",
    "\n",
    "Input: pattern = \"abba\", s = \"dog cat cat dog\"\n",
    "\n",
    "Output: true\n",
    "\n",
    "Explanation:\n",
    "\n",
    "The bijection can be established as:\n",
    "\n",
    "'a' maps to \"dog\".\n",
    "'b' maps to \"cat\".\n",
    "Example 2:\n",
    "\n",
    "Input: pattern = \"abba\", s = \"dog cat cat fish\"\n",
    "\n",
    "Output: false\n",
    "\n",
    "Example 3:\n",
    "\n",
    "Input: pattern = \"aaaa\", s = \"dog cat cat dog\"\n",
    "\n",
    "Output: false\n",
    "\n",
    " \n",
    "\n",
    "Constraints:\n",
    "\n",
    "1 <= pattern.length <= 300\n",
    "pattern contains only lower-case English letters.\n",
    "1 <= s.length <= 3000\n",
    "s contains only lowercase English letters and spaces ' '.\n",
    "s does not contain any leading or trailing spaces.\n",
    "All the words in s are separated by a single space.\n",
    "\n",
    "\n",
    "\"\"\""
   ]
  },
  {
   "cell_type": "code",
   "execution_count": 7,
   "id": "228e23a7",
   "metadata": {},
   "outputs": [
    {
     "name": "stdout",
     "output_type": "stream",
     "text": [
      "True\n"
     ]
    }
   ],
   "source": [
    "def word_pattern(pattern, s):\n",
    "    words = s.split()  # Use a different variable name for clarity\n",
    "    \n",
    "    p_count = len(pattern)\n",
    "    w_count = len(words)  # Count the number of words in the split string\n",
    "    \n",
    "    if p_count != w_count:  # Compare pattern length with word count\n",
    "        return False\n",
    "    \n",
    "    char_to_word = {}\n",
    "    word_to_char = {}\n",
    "    \n",
    "    # Iterate over both the pattern characters and the corresponding words\n",
    "    for char, word in zip(pattern, words):\n",
    "        # Check the mapping from character to word\n",
    "        if char not in char_to_word:\n",
    "            char_to_word[char] = word\n",
    "        elif char_to_word[char] != word:\n",
    "            return False  # Mismatch found\n",
    "        \n",
    "        # Check the mapping from word to character\n",
    "        if word not in word_to_char:\n",
    "            word_to_char[word] = char\n",
    "        elif word_to_char[word] != char:\n",
    "            return False  # Mismatch found\n",
    "    \n",
    "    return True  # All checks passed\n",
    "\n",
    "# Example usage\n",
    "pattern = \"abba\"\n",
    "s = \"dog cat cat dog\"\n",
    "print(word_pattern(pattern, s))  # Output: True\n"
   ]
  },
  {
   "cell_type": "code",
   "execution_count": 9,
   "id": "d854b9a3",
   "metadata": {},
   "outputs": [
    {
     "name": "stdout",
     "output_type": "stream",
     "text": [
      "False\n"
     ]
    }
   ],
   "source": [
    "pattern = \"abba\"\n",
    "s = \"dog cat cat fish\"\n",
    "\n",
    "# pattern = \"abba\"\n",
    "# s = \"dog cat cat dog\"\n",
    "\n",
    "print(word_pattern(pattern, s))"
   ]
  },
  {
   "cell_type": "code",
   "execution_count": null,
   "id": "75759abb",
   "metadata": {},
   "outputs": [],
   "source": []
  },
  {
   "cell_type": "code",
   "execution_count": null,
   "id": "17803f09",
   "metadata": {},
   "outputs": [],
   "source": []
  }
 ],
 "metadata": {
  "kernelspec": {
   "display_name": "Python 3 (ipykernel)",
   "language": "python",
   "name": "python3"
  },
  "language_info": {
   "codemirror_mode": {
    "name": "ipython",
    "version": 3
   },
   "file_extension": ".py",
   "mimetype": "text/x-python",
   "name": "python",
   "nbconvert_exporter": "python",
   "pygments_lexer": "ipython3",
   "version": "3.12.3"
  }
 },
 "nbformat": 4,
 "nbformat_minor": 5
}
