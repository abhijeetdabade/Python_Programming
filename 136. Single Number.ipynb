{
 "cells": [
  {
   "cell_type": "code",
   "execution_count": 1,
   "id": "ac82cb50",
   "metadata": {},
   "outputs": [
    {
     "data": {
      "text/plain": [
       "'\\n136. Single Number\\nEasy\\n\\nHint\\nGiven a non-empty array of integers nums, every element appears twice except for one. Find that single one.\\n\\nYou must implement a solution with a linear runtime complexity and use only constant extra space.\\n\\n \\n\\nExample 1:\\n\\nInput: nums = [2,2,1]\\nOutput: 1\\nExample 2:\\n\\nInput: nums = [4,1,2,1,2]\\nOutput: 4\\nExample 3:\\n\\nInput: nums = [1]\\nOutput: 1\\n\\n'"
      ]
     },
     "execution_count": 1,
     "metadata": {},
     "output_type": "execute_result"
    }
   ],
   "source": [
    "'''\n",
    "136. Single Number\n",
    "Easy\n",
    "\n",
    "Hint\n",
    "Given a non-empty array of integers nums, every element appears twice except for one. Find that single one.\n",
    "\n",
    "You must implement a solution with a linear runtime complexity and use only constant extra space.\n",
    "\n",
    " \n",
    "\n",
    "Example 1:\n",
    "\n",
    "Input: nums = [2,2,1]\n",
    "Output: 1\n",
    "Example 2:\n",
    "\n",
    "Input: nums = [4,1,2,1,2]\n",
    "Output: 4\n",
    "Example 3:\n",
    "\n",
    "Input: nums = [1]\n",
    "Output: 1\n",
    "\n",
    "'''"
   ]
  },
  {
   "cell_type": "code",
   "execution_count": 2,
   "id": "bb2bcacc",
   "metadata": {},
   "outputs": [],
   "source": [
    "def single_number(nums):\n",
    "    res = 0\n",
    "    \n",
    "    for num in nums:\n",
    "        res = num ^ res\n",
    "    return res"
   ]
  },
  {
   "cell_type": "code",
   "execution_count": 3,
   "id": "a16da6b1",
   "metadata": {},
   "outputs": [
    {
     "name": "stdout",
     "output_type": "stream",
     "text": [
      "4\n"
     ]
    }
   ],
   "source": [
    "nums = [4,1,2,1,2]\n",
    "print(single_number(nums))"
   ]
  },
  {
   "cell_type": "code",
   "execution_count": null,
   "id": "b9d50ebc",
   "metadata": {},
   "outputs": [],
   "source": []
  }
 ],
 "metadata": {
  "kernelspec": {
   "display_name": "Python 3 (ipykernel)",
   "language": "python",
   "name": "python3"
  },
  "language_info": {
   "codemirror_mode": {
    "name": "ipython",
    "version": 3
   },
   "file_extension": ".py",
   "mimetype": "text/x-python",
   "name": "python",
   "nbconvert_exporter": "python",
   "pygments_lexer": "ipython3",
   "version": "3.12.3"
  }
 },
 "nbformat": 4,
 "nbformat_minor": 5
}
