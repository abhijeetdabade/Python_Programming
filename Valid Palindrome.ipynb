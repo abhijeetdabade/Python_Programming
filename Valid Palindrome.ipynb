{
 "cells": [
  {
   "cell_type": "code",
   "execution_count": 1,
   "id": "7bdd0e79",
   "metadata": {},
   "outputs": [
    {
     "data": {
      "text/plain": [
       "'\\n125. Valid Palindrome\\nEasy\\n\\nA phrase is a palindrome if, after converting all uppercase letters into\\nlowercase letters and removing all non-alphanumeric characters,\\nit reads the same forward and backward. Alphanumeric characters include letters and numbers.\\n\\nGiven a string s, return true if it is a palindrome, or false otherwise.\\n\\n \\n\\nExample 1:\\n\\nInput: s = \"A man, a plan, a canal: Panama\"\\nOutput: true\\nExplanation: \"amanaplanacanalpanama\" is a palindrome.\\nExample 2:\\n\\nInput: s = \"race a car\"\\nOutput: false\\nExplanation: \"raceacar\" is not a palindrome.\\nExample 3:\\n\\nInput: s = \" \"\\nOutput: true\\nExplanation: s is an empty string \"\" after removing non-alphanumeric characters.\\nSince an empty string reads the same forward and backward, it is a palindrome.\\n'"
      ]
     },
     "execution_count": 1,
     "metadata": {},
     "output_type": "execute_result"
    }
   ],
   "source": [
    "'''\n",
    "125. Valid Palindrome\n",
    "Easy\n",
    "\n",
    "A phrase is a palindrome if, after converting all uppercase letters into\n",
    "lowercase letters and removing all non-alphanumeric characters,\n",
    "it reads the same forward and backward. Alphanumeric characters include letters and numbers.\n",
    "\n",
    "Given a string s, return true if it is a palindrome, or false otherwise.\n",
    "\n",
    " \n",
    "\n",
    "Example 1:\n",
    "\n",
    "Input: s = \"A man, a plan, a canal: Panama\"\n",
    "Output: true\n",
    "Explanation: \"amanaplanacanalpanama\" is a palindrome.\n",
    "Example 2:\n",
    "\n",
    "Input: s = \"race a car\"\n",
    "Output: false\n",
    "Explanation: \"raceacar\" is not a palindrome.\n",
    "Example 3:\n",
    "\n",
    "Input: s = \" \"\n",
    "Output: true\n",
    "Explanation: s is an empty string \"\" after removing non-alphanumeric characters.\n",
    "Since an empty string reads the same forward and backward, it is a palindrome.\n",
    "'''"
   ]
  },
  {
   "cell_type": "code",
   "execution_count": 8,
   "id": "54e317a0",
   "metadata": {},
   "outputs": [],
   "source": [
    "def valid_palindrome(string):\n",
    "    new_str =  \"\"\n",
    "    \n",
    "    for char in string:\n",
    "        if char.isalnum():\n",
    "            new_str += char.lower()\n",
    "    \n",
    "    return new_str == new_str[::-1]"
   ]
  },
  {
   "cell_type": "code",
   "execution_count": 10,
   "id": "24a48926",
   "metadata": {},
   "outputs": [
    {
     "name": "stdout",
     "output_type": "stream",
     "text": [
      "True\n"
     ]
    }
   ],
   "source": [
    "string = \"A man, a plan, a canal: Panama\"\n",
    "\n",
    "# string  = \"race a car\"\n",
    "print(valid_palindrome(string))"
   ]
  },
  {
   "cell_type": "code",
   "execution_count": 27,
   "id": "2d536977",
   "metadata": {},
   "outputs": [],
   "source": [
    "def valid_palindrome(string):\n",
    "    l, r = 0, len(string)-1\n",
    "    \n",
    "    while l < r:\n",
    "        while l < r and not alphanum(string[l]):\n",
    "            l+=1\n",
    "        while r > l and not alphanum(string[r]):\n",
    "            r-=1\n",
    "        if string[l].lower() != string[r].lower():\n",
    "            return False\n",
    "        l, r = l+1, r-1\n",
    "    return True\n",
    "    \n",
    "    \n",
    "def alphanum(char):\n",
    "    return (ord(\"A\") <= ord(char) <= ord(\"Z\") or ord(\"a\") <= ord(char) <= ord(\"z\") or ord(\"0\") <= ord(char) <= ord(\"9\"))\n",
    "            \n"
   ]
  },
  {
   "cell_type": "code",
   "execution_count": 29,
   "id": "1b1ace9b",
   "metadata": {},
   "outputs": [
    {
     "name": "stdout",
     "output_type": "stream",
     "text": [
      "False\n"
     ]
    }
   ],
   "source": [
    "# string = \"A man, a plan, a canal: Panama\"\n",
    "\n",
    "string  = \"race a car\"\n",
    "print(valid_palindrome(string))"
   ]
  },
  {
   "cell_type": "code",
   "execution_count": null,
   "id": "7ea73663",
   "metadata": {},
   "outputs": [],
   "source": []
  }
 ],
 "metadata": {
  "kernelspec": {
   "display_name": "Python 3 (ipykernel)",
   "language": "python",
   "name": "python3"
  },
  "language_info": {
   "codemirror_mode": {
    "name": "ipython",
    "version": 3
   },
   "file_extension": ".py",
   "mimetype": "text/x-python",
   "name": "python",
   "nbconvert_exporter": "python",
   "pygments_lexer": "ipython3",
   "version": "3.12.3"
  }
 },
 "nbformat": 4,
 "nbformat_minor": 5
}
