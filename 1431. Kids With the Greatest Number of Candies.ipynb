{
 "cells": [
  {
   "cell_type": "code",
   "execution_count": 1,
   "id": "315ea69c",
   "metadata": {},
   "outputs": [
    {
     "data": {
      "text/plain": [
       "' \\n\\n1431. Kids With the Greatest Number of Candies\\nEasy\\n\\nHint\\nThere are n kids with candies. You are given an integer array candies, where each candies[i] represents \\nthe number of candies the ith kid has, and an integer extraCandies, denoting the number of extra candies \\nthat you have. Return a boolean array result of length n, where result[i] is true if, after giving \\nthe ith kid all the extraCandies, they will have the greatest number of candies among all the kids, \\nor false otherwise.\\n\\nNote that multiple kids can have the greatest number of candies.\\n\\nExample 1:\\n\\nInput: candies = [2,3,5,1,3], extraCandies = 3\\nOutput: [true,true,true,false,true] \\nExplanation: If you give all extraCandies to:\\n- Kid 1, they will have 2 + 3 = 5 candies, which is the greatest among the kids.\\n- Kid 2, they will have 3 + 3 = 6 candies, which is the greatest among the kids.\\n- Kid 3, they will have 5 + 3 = 8 candies, which is the greatest among the kids.\\n- Kid 4, they will have 1 + 3 = 4 candies, which is not the greatest among the kids.\\n- Kid 5, they will have 3 + 3 = 6 candies, which is the greatest among the kids.\\nExample 2:\\n\\nInput: candies = [4,2,1,1,2], extraCandies = 1\\nOutput: [true,false,false,false,false] \\nExplanation: There is only 1 extra candy.\\nKid 1 will always have the greatest number of candies, even if a different kid is given the extra candy.\\nExample 3:\\n\\nInput: candies = [12,1,12], extraCandies = 10\\nOutput: [true,false,true]\\n\\n'"
      ]
     },
     "execution_count": 1,
     "metadata": {},
     "output_type": "execute_result"
    }
   ],
   "source": [
    "''' \n",
    "\n",
    "1431. Kids With the Greatest Number of Candies\n",
    "Easy\n",
    "\n",
    "Hint\n",
    "There are n kids with candies. You are given an integer array candies, where each candies[i] represents \n",
    "the number of candies the ith kid has, and an integer extraCandies, denoting the number of extra candies \n",
    "that you have. Return a boolean array result of length n, where result[i] is true if, after giving \n",
    "the ith kid all the extraCandies, they will have the greatest number of candies among all the kids, \n",
    "or false otherwise.\n",
    "\n",
    "Note that multiple kids can have the greatest number of candies.\n",
    "\n",
    "Example 1:\n",
    "\n",
    "Input: candies = [2,3,5,1,3], extraCandies = 3\n",
    "Output: [true,true,true,false,true] \n",
    "Explanation: If you give all extraCandies to:\n",
    "- Kid 1, they will have 2 + 3 = 5 candies, which is the greatest among the kids.\n",
    "- Kid 2, they will have 3 + 3 = 6 candies, which is the greatest among the kids.\n",
    "- Kid 3, they will have 5 + 3 = 8 candies, which is the greatest among the kids.\n",
    "- Kid 4, they will have 1 + 3 = 4 candies, which is not the greatest among the kids.\n",
    "- Kid 5, they will have 3 + 3 = 6 candies, which is the greatest among the kids.\n",
    "Example 2:\n",
    "\n",
    "Input: candies = [4,2,1,1,2], extraCandies = 1\n",
    "Output: [true,false,false,false,false] \n",
    "Explanation: There is only 1 extra candy.\n",
    "Kid 1 will always have the greatest number of candies, even if a different kid is given the extra candy.\n",
    "Example 3:\n",
    "\n",
    "Input: candies = [12,1,12], extraCandies = 10\n",
    "Output: [true,false,true]\n",
    "\n",
    "'''"
   ]
  },
  {
   "cell_type": "code",
   "execution_count": 2,
   "id": "27876aa3",
   "metadata": {},
   "outputs": [],
   "source": [
    "def kids_with_candies(candies, extraCandies):\n",
    "    \n",
    "    maxCandies = max(candies)\n",
    "    \n",
    "    return [(CurNum + extraCandies >= maxCandies) for CurNum in candies]"
   ]
  },
  {
   "cell_type": "code",
   "execution_count": 4,
   "id": "008a6210",
   "metadata": {},
   "outputs": [
    {
     "name": "stdout",
     "output_type": "stream",
     "text": [
      "[True, False, False, False, False]\n"
     ]
    }
   ],
   "source": [
    "candies = [4,2,1,1,2]\n",
    "extraCandies = 1\n",
    "\n",
    "# candies = [12,1,12]\n",
    "# extraCandies = 10\n",
    "# Output: [true,false,true]\n",
    "\n",
    "print(kids_with_candies(candies, extraCandies))"
   ]
  },
  {
   "cell_type": "code",
   "execution_count": null,
   "id": "a8431bd2",
   "metadata": {},
   "outputs": [],
   "source": []
  }
 ],
 "metadata": {
  "kernelspec": {
   "display_name": "Python 3 (ipykernel)",
   "language": "python",
   "name": "python3"
  },
  "language_info": {
   "codemirror_mode": {
    "name": "ipython",
    "version": 3
   },
   "file_extension": ".py",
   "mimetype": "text/x-python",
   "name": "python",
   "nbconvert_exporter": "python",
   "pygments_lexer": "ipython3",
   "version": "3.12.3"
  }
 },
 "nbformat": 4,
 "nbformat_minor": 5
}
