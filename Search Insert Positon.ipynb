{
 "cells": [
  {
   "cell_type": "code",
   "execution_count": 1,
   "id": "51f31df2",
   "metadata": {},
   "outputs": [
    {
     "data": {
      "text/plain": [
       "' \\nExample 1:\\n\\nInput: nums = [1,3,5,6], target = 5\\nOutput: 2\\nExample 2:\\n\\nInput: nums = [1,3,5,6], target = 2\\nOutput: 1\\nExample 3:\\n\\nInput: nums = [1,3,5,6], target = 7\\n'"
      ]
     },
     "execution_count": 1,
     "metadata": {},
     "output_type": "execute_result"
    }
   ],
   "source": [
    "\"\"\" \n",
    "Example 1:\n",
    "\n",
    "Input: nums = [1,3,5,6], target = 5\n",
    "Output: 2\n",
    "Example 2:\n",
    "\n",
    "Input: nums = [1,3,5,6], target = 2\n",
    "Output: 1\n",
    "Example 3:\n",
    "\n",
    "Input: nums = [1,3,5,6], target = 7\n",
    "\"\"\""
   ]
  },
  {
   "cell_type": "code",
   "execution_count": 14,
   "id": "71d14faa",
   "metadata": {},
   "outputs": [],
   "source": [
    "# using the binary search algorithm solved problem\n",
    "\n",
    "def search_insert_position(nums, target):\n",
    "    \n",
    "    left, right = 0, len(nums)-1\n",
    "    \n",
    "    while left <= right:\n",
    "        mid = (left + right) // 2\n",
    "        \n",
    "        if nums[mid] == target:\n",
    "            return mid\n",
    "        if nums[mid] < target:\n",
    "            left = mid + 1\n",
    "        else:\n",
    "            right = mid - 1\n",
    "    return left"
   ]
  },
  {
   "cell_type": "code",
   "execution_count": 18,
   "id": "798fb75a",
   "metadata": {},
   "outputs": [
    {
     "name": "stdout",
     "output_type": "stream",
     "text": [
      "2\n"
     ]
    }
   ],
   "source": [
    "nums = [1,3,5,6]\n",
    "target = 4\n",
    "print(search_insert_position(num, target))"
   ]
  },
  {
   "cell_type": "code",
   "execution_count": null,
   "id": "9d7ac8ad",
   "metadata": {},
   "outputs": [],
   "source": []
  }
 ],
 "metadata": {
  "kernelspec": {
   "display_name": "Python 3 (ipykernel)",
   "language": "python",
   "name": "python3"
  },
  "language_info": {
   "codemirror_mode": {
    "name": "ipython",
    "version": 3
   },
   "file_extension": ".py",
   "mimetype": "text/x-python",
   "name": "python",
   "nbconvert_exporter": "python",
   "pygments_lexer": "ipython3",
   "version": "3.10.12"
  }
 },
 "nbformat": 4,
 "nbformat_minor": 5
}
