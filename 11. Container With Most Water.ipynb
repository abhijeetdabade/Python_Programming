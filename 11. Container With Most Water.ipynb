{
 "cells": [
  {
   "cell_type": "code",
   "execution_count": 1,
   "id": "3286eb7a",
   "metadata": {},
   "outputs": [
    {
     "data": {
      "text/plain": [
       "' \\n11. Container With Most Water\\n\\nHint\\nYou are given an integer array height of length n.\\nThere are n vertical lines drawn such that the two endpoints of the ith line are (i, 0) and (i, height[i]).\\n\\nFind two lines that together with the x-axis form a container, such that the container contains the most water.\\n\\nReturn the maximum amount of water a container can store.\\n\\nNotice that you may not slant the container.\\n'"
      ]
     },
     "execution_count": 1,
     "metadata": {},
     "output_type": "execute_result"
    }
   ],
   "source": [
    "''' \n",
    "11. Container With Most Water\n",
    "\n",
    "Hint\n",
    "You are given an integer array height of length n.\n",
    "There are n vertical lines drawn such that the two endpoints of the ith line are (i, 0) and (i, height[i]).\n",
    "\n",
    "Find two lines that together with the x-axis form a container, such that the container contains the most water.\n",
    "\n",
    "Return the maximum amount of water a container can store.\n",
    "\n",
    "Notice that you may not slant the container.\n",
    "'''"
   ]
  },
  {
   "cell_type": "code",
   "execution_count": 7,
   "id": "30d2bd5d",
   "metadata": {},
   "outputs": [],
   "source": [
    "def max_area(height):\n",
    "    res = 0\n",
    "    l, r = 0, len(height)-1\n",
    "    \n",
    "    while l < r:\n",
    "        area = (r-l) * min(height[l], height[r])\n",
    "        \n",
    "        res = max(res, area)\n",
    "        \n",
    "        if height[l] < height[r]:\n",
    "            l+=1\n",
    "        else:\n",
    "            r-=1\n",
    "    return res"
   ]
  },
  {
   "cell_type": "code",
   "execution_count": 8,
   "id": "881bb783",
   "metadata": {},
   "outputs": [
    {
     "name": "stdout",
     "output_type": "stream",
     "text": [
      "49\n"
     ]
    }
   ],
   "source": [
    "height = [1,8,6,2,5,4,8,3,7]\n",
    "\n",
    "print(max_area(height))"
   ]
  },
  {
   "cell_type": "code",
   "execution_count": null,
   "id": "83fb0eec",
   "metadata": {},
   "outputs": [],
   "source": []
  }
 ],
 "metadata": {
  "kernelspec": {
   "display_name": "Python 3 (ipykernel)",
   "language": "python",
   "name": "python3"
  },
  "language_info": {
   "codemirror_mode": {
    "name": "ipython",
    "version": 3
   },
   "file_extension": ".py",
   "mimetype": "text/x-python",
   "name": "python",
   "nbconvert_exporter": "python",
   "pygments_lexer": "ipython3",
   "version": "3.12.3"
  }
 },
 "nbformat": 4,
 "nbformat_minor": 5
}
