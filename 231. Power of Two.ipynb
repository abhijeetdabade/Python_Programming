{
 "cells": [
  {
   "cell_type": "code",
   "execution_count": 1,
   "id": "40b0e464",
   "metadata": {},
   "outputs": [
    {
     "data": {
      "text/plain": [
       "' \\nGiven an integer n, return true if it is a power of two. Otherwise, return false.\\n\\nAn integer n is a power of two, if there exists an integer x such that n == 2x.\\n\\n \\n\\nExample 1:\\n\\nInput: n = 1\\nOutput: true\\nExplanation: 20 = 1\\nExample 2:\\n\\nInput: n = 16\\nOutput: true\\nExplanation: 24 = 16\\nExample 3:\\n\\nInput: n = 3\\nOutput: false\\n\\n'"
      ]
     },
     "execution_count": 1,
     "metadata": {},
     "output_type": "execute_result"
    }
   ],
   "source": [
    "# 231. Power of Two\n",
    "\n",
    "\"\"\" \n",
    "Given an integer n, return true if it is a power of two. Otherwise, return false.\n",
    "\n",
    "An integer n is a power of two, if there exists an integer x such that n == 2x.\n",
    "\n",
    " \n",
    "\n",
    "Example 1:\n",
    "\n",
    "Input: n = 1\n",
    "Output: true\n",
    "Explanation: 20 = 1\n",
    "Example 2:\n",
    "\n",
    "Input: n = 16\n",
    "Output: true\n",
    "Explanation: 24 = 16\n",
    "Example 3:\n",
    "\n",
    "Input: n = 3\n",
    "Output: false\n",
    "\n",
    "\"\"\""
   ]
  },
  {
   "cell_type": "code",
   "execution_count": 25,
   "id": "c2cfcf96",
   "metadata": {},
   "outputs": [],
   "source": [
    "def is_power_of_two(n):\n",
    "    if n <= 0:\n",
    "        return False\n",
    "    while n % 2 == 0:\n",
    "        n = n / 2\n",
    "    return n == 1\n"
   ]
  },
  {
   "cell_type": "code",
   "execution_count": 26,
   "id": "99b18cbd",
   "metadata": {},
   "outputs": [
    {
     "name": "stdout",
     "output_type": "stream",
     "text": [
      "True\n"
     ]
    }
   ],
   "source": [
    "n = 16\n",
    "\n",
    "print(is_power_of_two(n))"
   ]
  },
  {
   "cell_type": "code",
   "execution_count": 33,
   "id": "b2f30986",
   "metadata": {},
   "outputs": [
    {
     "name": "stdout",
     "output_type": "stream",
     "text": [
      "True\n",
      "False\n"
     ]
    }
   ],
   "source": [
    "def power(n):\n",
    "#     return n > 0 and not (n & (n-1))\n",
    "      return n > 0 and (n & (n-1)) == 0\n",
    "\n",
    "n = 16\n",
    "print(power(n))\n",
    "n =3\n",
    "print(power(n))"
   ]
  },
  {
   "cell_type": "code",
   "execution_count": 30,
   "id": "68c8ce03",
   "metadata": {},
   "outputs": [
    {
     "name": "stdout",
     "output_type": "stream",
     "text": [
      "True\n",
      "False\n"
     ]
    }
   ],
   "source": [
    "def power(n):\n",
    "    return n > 0 and ((1 << 30) % n) == 0\n",
    "\n",
    "n = 16\n",
    "print(power(n))\n",
    "n =3\n",
    "print(power(n))"
   ]
  },
  {
   "cell_type": "code",
   "execution_count": 32,
   "id": "60a2c214",
   "metadata": {},
   "outputs": [
    {
     "name": "stdout",
     "output_type": "stream",
     "text": [
      "False\n",
      "True\n"
     ]
    }
   ],
   "source": [
    "def is_power_of_two2(n):\n",
    "    x = 1\n",
    "    while n > x:\n",
    "        x *= 2\n",
    "    return n == x\n",
    "\n",
    "n = 14\n",
    "print(is_power_of_two2(n))\n",
    "\n",
    "n = 16\n",
    "print(is_power_of_two2(n))"
   ]
  },
  {
   "cell_type": "code",
   "execution_count": null,
   "id": "4482e1f2",
   "metadata": {},
   "outputs": [],
   "source": []
  }
 ],
 "metadata": {
  "kernelspec": {
   "display_name": "Python 3 (ipykernel)",
   "language": "python",
   "name": "python3"
  },
  "language_info": {
   "codemirror_mode": {
    "name": "ipython",
    "version": 3
   },
   "file_extension": ".py",
   "mimetype": "text/x-python",
   "name": "python",
   "nbconvert_exporter": "python",
   "pygments_lexer": "ipython3",
   "version": "3.12.3"
  }
 },
 "nbformat": 4,
 "nbformat_minor": 5
}
