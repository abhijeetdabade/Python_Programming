{
 "cells": [
  {
   "cell_type": "code",
   "execution_count": 1,
   "id": "fede5233",
   "metadata": {},
   "outputs": [
    {
     "data": {
      "text/plain": [
       "'\\n\\n258. Add Digits\\nEasy\\nTopics\\nCompanies\\nHint\\nGiven an integer num, repeatedly add all its digits until the result has only one digit, and return it.\\n\\n \\n\\nExample 1:\\n\\nInput: num = 38\\nOutput: 2\\nExplanation: The process is\\n38 --> 3 + 8 --> 11\\n11 --> 1 + 1 --> 2 \\nSince 2 has only one digit, return it.\\nExample 2:\\n\\nInput: num = 0\\nOutput: 0\\n \\n\\nConstraints:\\n\\n0 <= num <= 231 - 1\\n \\n\\nFollow up: Could you do it without any loop/recursion in O(1) runtime?\\n\\n'"
      ]
     },
     "execution_count": 1,
     "metadata": {},
     "output_type": "execute_result"
    }
   ],
   "source": [
    "\"\"\"\n",
    "\n",
    "258. Add Digits\n",
    "Easy\n",
    "Topics\n",
    "Companies\n",
    "Hint\n",
    "Given an integer num, repeatedly add all its digits until the result has only one digit, and return it.\n",
    "\n",
    " \n",
    "\n",
    "Example 1:\n",
    "\n",
    "Input: num = 38\n",
    "Output: 2\n",
    "Explanation: The process is\n",
    "38 --> 3 + 8 --> 11\n",
    "11 --> 1 + 1 --> 2 \n",
    "Since 2 has only one digit, return it.\n",
    "Example 2:\n",
    "\n",
    "Input: num = 0\n",
    "Output: 0\n",
    " \n",
    "\n",
    "Constraints:\n",
    "\n",
    "0 <= num <= 231 - 1\n",
    " \n",
    "\n",
    "Follow up: Could you do it without any loop/recursion in O(1) runtime?\n",
    "\n",
    "\"\"\""
   ]
  },
  {
   "cell_type": "code",
   "execution_count": 16,
   "id": "6043d8dc",
   "metadata": {},
   "outputs": [],
   "source": [
    "def add_digits(num):\n",
    "    \n",
    "    while num > 9:\n",
    "        sum1  = 0\n",
    "        while num > 0 :\n",
    "            remainder = num % 10\n",
    "            sum1 += remainder\n",
    "            num = num // 10\n",
    "        num = sum1\n",
    "    \n",
    "    return num    "
   ]
  },
  {
   "cell_type": "code",
   "execution_count": 18,
   "id": "62ead994",
   "metadata": {},
   "outputs": [
    {
     "name": "stdout",
     "output_type": "stream",
     "text": [
      "2\n"
     ]
    }
   ],
   "source": [
    "num = 38\n",
    "print(add_digits(num))"
   ]
  },
  {
   "cell_type": "code",
   "execution_count": null,
   "id": "cc6082ea",
   "metadata": {},
   "outputs": [],
   "source": []
  }
 ],
 "metadata": {
  "kernelspec": {
   "display_name": "Python 3 (ipykernel)",
   "language": "python",
   "name": "python3"
  },
  "language_info": {
   "codemirror_mode": {
    "name": "ipython",
    "version": 3
   },
   "file_extension": ".py",
   "mimetype": "text/x-python",
   "name": "python",
   "nbconvert_exporter": "python",
   "pygments_lexer": "ipython3",
   "version": "3.12.3"
  }
 },
 "nbformat": 4,
 "nbformat_minor": 5
}
