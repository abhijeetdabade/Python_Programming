{
 "cells": [
  {
   "cell_type": "code",
   "execution_count": 1,
   "id": "91ab6021",
   "metadata": {},
   "outputs": [
    {
     "data": {
      "text/plain": [
       "'\\n\\n152. Maximum Product Subarray Medium\\n\\nGiven an integer array nums, find a \\nsubarray\\n that has the largest product, and return the product.\\n\\nThe test cases are generated so that the answer will fit in a 32-bit integer.\\n\\n \\n\\nExample 1:\\n\\nInput: nums = [2,3,-2,4]\\nOutput: 6\\nExplanation: [2,3] has the largest product 6.\\nExample 2:\\n\\nInput: nums = [-2,0,-1]\\nOutput: 0\\nExplanation: The result cannot be 2, because [-2,-1] is not a subarray.\\n\\n'"
      ]
     },
     "execution_count": 1,
     "metadata": {},
     "output_type": "execute_result"
    }
   ],
   "source": [
    "\"\"\"\n",
    "\n",
    "152. Maximum Product Subarray Medium\n",
    "\n",
    "Given an integer array nums, find a \n",
    "subarray\n",
    " that has the largest product, and return the product.\n",
    "\n",
    "The test cases are generated so that the answer will fit in a 32-bit integer.\n",
    "\n",
    " \n",
    "\n",
    "Example 1:\n",
    "\n",
    "Input: nums = [2,3,-2,4]\n",
    "Output: 6\n",
    "Explanation: [2,3] has the largest product 6.\n",
    "Example 2:\n",
    "\n",
    "Input: nums = [-2,0,-1]\n",
    "Output: 0\n",
    "Explanation: The result cannot be 2, because [-2,-1] is not a subarray.\n",
    "\n",
    "\"\"\""
   ]
  },
  {
   "cell_type": "code",
   "execution_count": 13,
   "id": "1b899657",
   "metadata": {},
   "outputs": [
    {
     "name": "stdout",
     "output_type": "stream",
     "text": [
      "6\n"
     ]
    }
   ],
   "source": [
    "def max_prod(nums):\n",
    "    if not nums:\n",
    "        return 0  # Handle empty input\n",
    "\n",
    "    # Initialize max_product, min_product, and result\n",
    "    max_product = min_product = result = nums[0]\n",
    "    \n",
    "    for i in range(1, len(nums)):\n",
    "        current = nums[i]\n",
    "        \n",
    "        if current < 0:\n",
    "            # Swap max and min when the current number is negative\n",
    "            max_product, min_product = min_product, max_product\n",
    "        \n",
    "        # Calculate the maximum and minimum products ending at current position\n",
    "        max_product = max(current, max_product * current)\n",
    "#         min_product = min(current, min_product * current)\n",
    "        \n",
    "        # Update the result with the maximum product found so far\n",
    "        result = max(result, max_product)\n",
    "    \n",
    "    return result\n",
    "\n",
    "# Example usage\n",
    "nums = [2, 3, -2, 4]\n",
    "print(max_prod(nums))  # Output: 6\n"
   ]
  },
  {
   "cell_type": "code",
   "execution_count": 11,
   "id": "4a477d9c",
   "metadata": {},
   "outputs": [
    {
     "name": "stdout",
     "output_type": "stream",
     "text": [
      "6\n"
     ]
    }
   ],
   "source": [
    "nums = [2,3,-2,4]\n",
    "\n",
    "# nums = [-2,0,-1]\n",
    "\n",
    "print(max_prod(nums))"
   ]
  },
  {
   "cell_type": "code",
   "execution_count": null,
   "id": "37efd9e4",
   "metadata": {},
   "outputs": [],
   "source": []
  }
 ],
 "metadata": {
  "kernelspec": {
   "display_name": "Python 3 (ipykernel)",
   "language": "python",
   "name": "python3"
  },
  "language_info": {
   "codemirror_mode": {
    "name": "ipython",
    "version": 3
   },
   "file_extension": ".py",
   "mimetype": "text/x-python",
   "name": "python",
   "nbconvert_exporter": "python",
   "pygments_lexer": "ipython3",
   "version": "3.12.3"
  }
 },
 "nbformat": 4,
 "nbformat_minor": 5
}
