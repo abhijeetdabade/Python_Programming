{
 "cells": [
  {
   "cell_type": "code",
   "execution_count": 2,
   "id": "41282029",
   "metadata": {},
   "outputs": [
    {
     "data": {
      "text/plain": [
       "'\\n4. Median of Two Sorted Arrays\\nHard\\n\\nGiven two sorted arrays nums1 and nums2 of size m and n respectively, return the median of the two sorted arrays.\\n\\nThe overall run time complexity should be O(log (m+n)).\\n\\n \\n\\nExample 1:\\n\\nInput: nums1 = [1,3], nums2 = [2]\\nOutput: 2.00000\\nExplanation: merged array = [1,2,3] and median is 2.\\nExample 2:\\n\\nInput: nums1 = [1,2], nums2 = [3,4]\\nOutput: 2.50000\\nExplanation: merged array = [1,2,3,4] and median is (2 + 3) / 2 = 2.5\\n\\n'"
      ]
     },
     "execution_count": 2,
     "metadata": {},
     "output_type": "execute_result"
    }
   ],
   "source": [
    "\"\"\"\n",
    "4. Median of Two Sorted Arrays\n",
    "Hard\n",
    "\n",
    "Given two sorted arrays nums1 and nums2 of size m and n respectively, return the median of the two sorted arrays.\n",
    "\n",
    "The overall run time complexity should be O(log (m+n)).\n",
    "\n",
    " \n",
    "\n",
    "Example 1:\n",
    "\n",
    "Input: nums1 = [1,3], nums2 = [2]\n",
    "Output: 2.00000\n",
    "Explanation: merged array = [1,2,3] and median is 2.\n",
    "Example 2:\n",
    "\n",
    "Input: nums1 = [1,2], nums2 = [3,4]\n",
    "Output: 2.50000\n",
    "Explanation: merged array = [1,2,3,4] and median is (2 + 3) / 2 = 2.5\n",
    "\n",
    "\"\"\""
   ]
  },
  {
   "cell_type": "code",
   "execution_count": 26,
   "id": "99ab8841",
   "metadata": {},
   "outputs": [],
   "source": [
    "def median_arr(nums1,  nums2):\n",
    "    \n",
    "    for i in range(len(nums2)):\n",
    "        nums1.append(nums2[i])\n",
    "        \n",
    "        nums1.sort()\n",
    "        \n",
    "        n = len(nums1)\n",
    "        \n",
    "        if n % 2 == 1:\n",
    "            median = nums1[n // 2]\n",
    "        else:\n",
    "            median = (nums1[n // 2 - 1] + nums1[n // 2]) / 2 \n",
    "    return median"
   ]
  },
  {
   "cell_type": "code",
   "execution_count": 27,
   "id": "08e1161d",
   "metadata": {},
   "outputs": [
    {
     "name": "stdout",
     "output_type": "stream",
     "text": [
      "3\n"
     ]
    }
   ],
   "source": [
    "nums1 = [1,2]\n",
    "nums2 = [3,4, 5]\n",
    "\n",
    "print(median_arr(nums1, nums2))"
   ]
  },
  {
   "cell_type": "code",
   "execution_count": 16,
   "id": "7df1a1c8",
   "metadata": {},
   "outputs": [
    {
     "name": "stdout",
     "output_type": "stream",
     "text": [
      "Sorted list: [1, 2, 3, 4]\n",
      "Median: 2.5\n"
     ]
    }
   ],
   "source": [
    "nums1 = [1,2]\n",
    "nums2 = [3,4]\n",
    "\n",
    "# Append elements of nums2 to nums1\n",
    "for i in range(len(nums2)):\n",
    "    nums1.append(nums2[i])\n",
    "\n",
    "# Sort the combined list\n",
    "nums1.sort()\n",
    "\n",
    "# Find the median\n",
    "n = len(nums1)\n",
    "\n",
    "if n % 2 == 1:\n",
    "    # If odd, the median is the middle element\n",
    "    median = nums1[n // 2]\n",
    "else:\n",
    "    # If even, the median is the average of the two middle elements\n",
    "    median = (nums1[n // 2 - 1] + nums1[n // 2]) / 2\n",
    "\n",
    "print(\"Sorted list:\", nums1)\n",
    "print(\"Median:\", median)\n"
   ]
  },
  {
   "cell_type": "code",
   "execution_count": 28,
   "id": "4d3bfc07",
   "metadata": {},
   "outputs": [],
   "source": [
    "    def findMedianSortedArrays(self, nums1, nums2):    \n",
    "        # Combine the lists\n",
    "        combined = np.concatenate((nums1, nums2))\n",
    "\n",
    "        # Calculate the median\n",
    "        median = np.median(combined)\n",
    "\n",
    "        return median"
   ]
  },
  {
   "cell_type": "code",
   "execution_count": 29,
   "id": "6f5138ea",
   "metadata": {},
   "outputs": [
    {
     "ename": "ModuleNotFoundError",
     "evalue": "No module named 'pandas'",
     "output_type": "error",
     "traceback": [
      "\u001b[0;31m---------------------------------------------------------------------------\u001b[0m",
      "\u001b[0;31mModuleNotFoundError\u001b[0m                       Traceback (most recent call last)",
      "Cell \u001b[0;32mIn[29], line 1\u001b[0m\n\u001b[0;32m----> 1\u001b[0m \u001b[38;5;28;01mimport\u001b[39;00m \u001b[38;5;21;01mpandas\u001b[39;00m \u001b[38;5;28;01mas\u001b[39;00m \u001b[38;5;21;01mpd\u001b[39;00m\n\u001b[1;32m      3\u001b[0m \u001b[38;5;66;03m# Two sorted lists\u001b[39;00m\n\u001b[1;32m      4\u001b[0m nums1 \u001b[38;5;241m=\u001b[39m [\u001b[38;5;241m1\u001b[39m, \u001b[38;5;241m3\u001b[39m]\n",
      "\u001b[0;31mModuleNotFoundError\u001b[0m: No module named 'pandas'"
     ]
    }
   ],
   "source": [
    "import pandas as pd\n",
    "\n",
    "# Two sorted lists\n",
    "nums1 = [1, 3]\n",
    "nums2 = [2]\n",
    "\n",
    "# Combine the lists\n",
    "combined = nums1 + nums2\n",
    "\n",
    "# Create a Pandas Series\n",
    "combined_series = pd.Series(combined)\n",
    "\n",
    "# Calculate the median\n",
    "median_value = combined_series.median()\n",
    "\n",
    "print(\"Median using Pandas:\", median_value)\n"
   ]
  },
  {
   "cell_type": "code",
   "execution_count": null,
   "id": "dd8d0821",
   "metadata": {},
   "outputs": [],
   "source": []
  }
 ],
 "metadata": {
  "kernelspec": {
   "display_name": "Python 3 (ipykernel)",
   "language": "python",
   "name": "python3"
  },
  "language_info": {
   "codemirror_mode": {
    "name": "ipython",
    "version": 3
   },
   "file_extension": ".py",
   "mimetype": "text/x-python",
   "name": "python",
   "nbconvert_exporter": "python",
   "pygments_lexer": "ipython3",
   "version": "3.12.3"
  }
 },
 "nbformat": 4,
 "nbformat_minor": 5
}
