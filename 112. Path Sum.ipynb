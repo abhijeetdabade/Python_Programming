{
 "cells": [
  {
   "cell_type": "code",
   "execution_count": 1,
   "id": "6f6e3210",
   "metadata": {},
   "outputs": [
    {
     "data": {
      "text/plain": [
       "'\\nGiven the root of a binary tree and an integer targetSum, return true if \\nthe tree has a root-to-leaf path such that adding up all the values along \\nthe path equals targetSum.\\n\\nA leaf is a node with no children.\\n\\nInput: root = [5,4,8,11,null,13,4,7,2,null,null,null,1], targetSum = 22\\nOutput: true\\n\\nInput: root = [1,2,3], targetSum = 5\\nOutput: false\\nExplanation: There two root-to-leaf paths in the tree:\\n(1 --> 2): The sum is 3.\\n(1 --> 3): The sum is 4.\\nThere is no root-to-leaf path with sum = 5.\\n\\nExample 3:\\n\\nInput: root = [], targetSum = 0\\nOutput: false\\nExplanation: Since the tree is empty, there are no root-to-leaf paths.\\n\\n'"
      ]
     },
     "execution_count": 1,
     "metadata": {},
     "output_type": "execute_result"
    }
   ],
   "source": [
    "'''\n",
    "Given the root of a binary tree and an integer targetSum, return true if \n",
    "the tree has a root-to-leaf path such that adding up all the values along \n",
    "the path equals targetSum.\n",
    "\n",
    "A leaf is a node with no children.\n",
    "\n",
    "Input: root = [5,4,8,11,null,13,4,7,2,null,null,null,1], targetSum = 22\n",
    "Output: true\n",
    "\n",
    "Input: root = [1,2,3], targetSum = 5\n",
    "Output: false\n",
    "Explanation: There two root-to-leaf paths in the tree:\n",
    "(1 --> 2): The sum is 3.\n",
    "(1 --> 3): The sum is 4.\n",
    "There is no root-to-leaf path with sum = 5.\n",
    "\n",
    "Example 3:\n",
    "\n",
    "Input: root = [], targetSum = 0\n",
    "Output: false\n",
    "Explanation: Since the tree is empty, there are no root-to-leaf paths.\n",
    "\n",
    "'''"
   ]
  },
  {
   "cell_type": "code",
   "execution_count": 32,
   "id": "9d41fb7a",
   "metadata": {},
   "outputs": [],
   "source": [
    "# Define the TreeNode class to represent nodes of the binary tree\n",
    "class TreeNode:\n",
    "    def __init__(self, val=0, left=None, right=None):\n",
    "        self.val = val\n",
    "        self.left = left\n",
    "        self.right = right\n",
    "\n",
    "# Function to check if there's a path sum equal to targetSum\n",
    "def hasPathSum(root, targetSum):\n",
    "    if not root:\n",
    "        return False\n",
    "    \n",
    "    # If it's a leaf node, check if the remaining sum equals the node's value\n",
    "    if not root.left and not root.right:\n",
    "        return targetSum == root.val\n",
    "    \n",
    "    # Recursively check the left and right subtree, reducing the targetSum by the current node's value\n",
    "    return hasPathSum(root.left, targetSum - root.val) or hasPathSum(root.right, targetSum - root.val)\n",
    "\n",
    "# Example: Creating a binary tree\n",
    "#    1\n",
    "#   / \\\n",
    "#  2   3\n",
    "root = TreeNode(1)\n",
    "root.left = TreeNode(2)\n",
    "root.right = TreeNode(3)\n",
    "\n",
    "# Test the function with the given target sum\n",
    "# targetSum = 5\n",
    "# print(hasPathSum(root, targetSum))  # Output: False (1 -> 2 does not sum to 5, 1 -> 3 does not sum to 5)\n"
   ]
  },
  {
   "cell_type": "code",
   "execution_count": 33,
   "id": "2f64bafe",
   "metadata": {},
   "outputs": [
    {
     "ename": "AttributeError",
     "evalue": "'list' object has no attribute 'left'",
     "output_type": "error",
     "traceback": [
      "\u001b[0;31m---------------------------------------------------------------------------\u001b[0m",
      "\u001b[0;31mAttributeError\u001b[0m                            Traceback (most recent call last)",
      "Cell \u001b[0;32mIn[33], line 4\u001b[0m\n\u001b[1;32m      1\u001b[0m root \u001b[38;5;241m=\u001b[39m [\u001b[38;5;241m1\u001b[39m,\u001b[38;5;241m2\u001b[39m,\u001b[38;5;241m3\u001b[39m]\n\u001b[1;32m      2\u001b[0m targetSum \u001b[38;5;241m=\u001b[39m \u001b[38;5;241m5\u001b[39m\n\u001b[0;32m----> 4\u001b[0m \u001b[38;5;28mprint\u001b[39m(\u001b[43mhasPathSum\u001b[49m\u001b[43m(\u001b[49m\u001b[43mroot\u001b[49m\u001b[43m,\u001b[49m\u001b[43m \u001b[49m\u001b[43mtargetSum\u001b[49m\u001b[43m)\u001b[49m)\n",
      "Cell \u001b[0;32mIn[32], line 14\u001b[0m, in \u001b[0;36mhasPathSum\u001b[0;34m(root, targetSum)\u001b[0m\n\u001b[1;32m     11\u001b[0m     \u001b[38;5;28;01mreturn\u001b[39;00m \u001b[38;5;28;01mFalse\u001b[39;00m\n\u001b[1;32m     13\u001b[0m \u001b[38;5;66;03m# If it's a leaf node, check if the remaining sum equals the node's value\u001b[39;00m\n\u001b[0;32m---> 14\u001b[0m \u001b[38;5;28;01mif\u001b[39;00m \u001b[38;5;129;01mnot\u001b[39;00m \u001b[43mroot\u001b[49m\u001b[38;5;241;43m.\u001b[39;49m\u001b[43mleft\u001b[49m \u001b[38;5;129;01mand\u001b[39;00m \u001b[38;5;129;01mnot\u001b[39;00m root\u001b[38;5;241m.\u001b[39mright:\n\u001b[1;32m     15\u001b[0m     \u001b[38;5;28;01mreturn\u001b[39;00m targetSum \u001b[38;5;241m==\u001b[39m root\u001b[38;5;241m.\u001b[39mval\n\u001b[1;32m     17\u001b[0m \u001b[38;5;66;03m# Recursively check the left and right subtree, reducing the targetSum by the current node's value\u001b[39;00m\n",
      "\u001b[0;31mAttributeError\u001b[0m: 'list' object has no attribute 'left'"
     ]
    }
   ],
   "source": [
    "root = [1,2,3]\n",
    "targetSum = 5\n",
    "\n",
    "print(hasPathSum(root, targetSum))"
   ]
  },
  {
   "cell_type": "code",
   "execution_count": null,
   "id": "22a0a04e",
   "metadata": {},
   "outputs": [],
   "source": []
  }
 ],
 "metadata": {
  "kernelspec": {
   "display_name": "Python 3 (ipykernel)",
   "language": "python",
   "name": "python3"
  },
  "language_info": {
   "codemirror_mode": {
    "name": "ipython",
    "version": 3
   },
   "file_extension": ".py",
   "mimetype": "text/x-python",
   "name": "python",
   "nbconvert_exporter": "python",
   "pygments_lexer": "ipython3",
   "version": "3.12.3"
  }
 },
 "nbformat": 4,
 "nbformat_minor": 5
}
