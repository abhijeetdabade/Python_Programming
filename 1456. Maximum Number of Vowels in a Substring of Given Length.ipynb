{
 "cells": [
  {
   "cell_type": "code",
   "execution_count": 1,
   "id": "09356724",
   "metadata": {},
   "outputs": [
    {
     "data": {
      "text/plain": [
       "'\\n\\n\\n1456. Maximum Number of Vowels in a Substring of Given Length\\nMedium\\n\\nHint\\nGiven a string s and an integer k, return the maximum number of vowel letters in any substring of s with length k.\\n\\nVowel letters in English are \\'a\\', \\'e\\', \\'i\\', \\'o\\', and \\'u\\'.\\n\\n \\nExample 1:\\n\\nInput: s = \"abciiidef\", k = 3\\nOutput: 3\\nExplanation: The substring \"iii\" contains 3 vowel letters.\\nExample 2:\\n\\nInput: s = \"aeiou\", k = 2\\nOutput: 2\\nExplanation: Any substring of length 2 contains 2 vowels.\\nExample 3:\\n\\nInput: s = \"leetcode\", k = 3\\nOutput: 2\\nExplanation: \"lee\", \"eet\" and \"ode\" contain 2 vowels.\\n\\n'"
      ]
     },
     "execution_count": 1,
     "metadata": {},
     "output_type": "execute_result"
    }
   ],
   "source": [
    "'''\n",
    "\n",
    "\n",
    "1456. Maximum Number of Vowels in a Substring of Given Length\n",
    "Medium\n",
    "\n",
    "Hint\n",
    "Given a string s and an integer k, return the maximum number of vowel letters in any substring of s with length k.\n",
    "\n",
    "Vowel letters in English are 'a', 'e', 'i', 'o', and 'u'.\n",
    "\n",
    " \n",
    "Example 1:\n",
    "\n",
    "Input: s = \"abciiidef\", k = 3\n",
    "Output: 3\n",
    "Explanation: The substring \"iii\" contains 3 vowel letters.\n",
    "Example 2:\n",
    "\n",
    "Input: s = \"aeiou\", k = 2\n",
    "Output: 2\n",
    "Explanation: Any substring of length 2 contains 2 vowels.\n",
    "Example 3:\n",
    "\n",
    "Input: s = \"leetcode\", k = 3\n",
    "Output: 2\n",
    "Explanation: \"lee\", \"eet\" and \"ode\" contain 2 vowels.\n",
    "\n",
    "'''"
   ]
  },
  {
   "cell_type": "code",
   "execution_count": null,
   "id": "40687839",
   "metadata": {},
   "outputs": [],
   "source": [
    "def max_vowels(s, k):\n",
    "    vowels = \"AEIOUaeiou\"\n",
    "    count = 0\n",
    "    max_count = 0\n",
    "    \n",
    "    # First, calculate the number of vowels in the first window\n",
    "    for i in range(k):\n",
    "        if s[i] in vowels:\n",
    "            count += 1\n",
    "    max_count = count\n",
    "    \n",
    "    # Now slide the window across the string\n",
    "    for i in range(k, len(s)):\n",
    "        if s[i] in vowels:  # Add the new character\n",
    "            count += 1\n",
    "        if s[i - k] in vowels:  # Remove the old character\n",
    "            count -= 1\n",
    "        max_count = max(max_count, count)\n",
    "    \n",
    "    return max_count\n"
   ]
  },
  {
   "cell_type": "code",
   "execution_count": 38,
   "id": "d0166e1a",
   "metadata": {},
   "outputs": [
    {
     "name": "stdout",
     "output_type": "stream",
     "text": [
      "3\n"
     ]
    }
   ],
   "source": [
    "s = \"abciiidEf\"\n",
    "k = 3\n",
    "# Output: 3\n",
    "\n",
    "# s = \"aeiou\"\n",
    "# k = 2\n",
    "# Output: 2\n",
    "\n",
    "print(max_vowels(s, k))\n"
   ]
  }
 ],
 "metadata": {
  "kernelspec": {
   "display_name": "Python 3 (ipykernel)",
   "language": "python",
   "name": "python3"
  },
  "language_info": {
   "codemirror_mode": {
    "name": "ipython",
    "version": 3
   },
   "file_extension": ".py",
   "mimetype": "text/x-python",
   "name": "python",
   "nbconvert_exporter": "python",
   "pygments_lexer": "ipython3",
   "version": "3.12.3"
  }
 },
 "nbformat": 4,
 "nbformat_minor": 5
}
